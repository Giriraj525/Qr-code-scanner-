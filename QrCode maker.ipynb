{
 "cells": [
  {
   "cell_type": "code",
   "execution_count": 3,
   "id": "4633b759-0ed3-4748-b799-db0339cbc314",
   "metadata": {},
   "outputs": [],
   "source": [
    "from tkinter import *"
   ]
  },
  {
   "cell_type": "code",
   "execution_count": 5,
   "id": "50b91c03-ae73-491c-b3bc-c745a35d4a52",
   "metadata": {},
   "outputs": [],
   "source": [
    "import qrcode"
   ]
  },
  {
   "cell_type": "code",
   "execution_count": 7,
   "id": "8326fe55-9e52-425b-bbea-307d3d0bedac",
   "metadata": {},
   "outputs": [],
   "source": [
    "import os"
   ]
  },
  {
   "cell_type": "code",
   "execution_count": 9,
   "id": "23adab78-a628-4229-8dd1-c3da4ca7ff86",
   "metadata": {
    "panel-layout": {
     "height": 10,
     "visible": true,
     "width": 100
    }
   },
   "outputs": [
    {
     "data": {
      "text/plain": [
       "''"
      ]
     },
     "execution_count": 9,
     "metadata": {},
     "output_type": "execute_result"
    }
   ],
   "source": [
    "root=Tk()\n",
    "root.title(\"Qr generator\")\n",
    "root.geometry(\"1000x550\")\n",
    "root.config(bg=\"#AE2321\")\n",
    "root.resizable(False,False)"
   ]
  },
  {
   "cell_type": "code",
   "execution_count": null,
   "id": "1c2f5324-f380-49fe-a125-fcd934f1f35f",
   "metadata": {},
   "outputs": [],
   "source": [
    "#icon image\n",
    "image_icon=photoimage\"icon.pgn\"\n",
    "root iconphoto(False,image_icon)\n"
   ]
  },
  {
   "cell_type": "code",
   "execution_count": 35,
   "id": "2f236507-d1a1-4eff-953d-5d5408d416ef",
   "metadata": {
    "panel-layout": {
     "height": 0,
     "visible": true,
     "width": 100
    }
   },
   "outputs": [],
   "source": [
    "def generate():\n",
    "    name = title.get()\n",
    "    text = entry.get()\n",
    "    if not name or not text:\n",
    "        return  # Ensure both title and text fields are filled\n",
    "    \n",
    "    # Create 'QrStore' directory if it doesn't exist\n",
    "    if not os.path.exists(\"QrStore\"):\n",
    "        os.makedirs(\"QrStore\")\n",
    "    \n",
    "    # Generate and save the QR code\n",
    "    qr = qrcode.make(text)\n",
    "    qr.save(\"QrStore/\" + str(name) + \".png\")\n",
    "\n",
    "    image_icon = tk.PhotoImage(file=\"icon.png\")\n",
    "\n",
    "# GUI elements\n",
    "Label(root, text=\"Title\", fg=\"white\", bg=\"#AE2321\", font=(\"Arial\", 15)).place(x=50, y=170)\n",
    "\n",
    "title = Entry(root, width=13, font=\"arial 15\")\n",
    "title.place(x=50, y=200)\n",
    "\n",
    "Label(root, text=\"Content\", fg=\"white\", bg=\"#AE2321\", font=(\"Arial\", 15)).place(x=50, y=230)\n",
    "\n",
    "entry = Entry(root, width=28, font=\"arial 15\")\n",
    "entry.place(x=50, y=260)\n",
    "\n",
    "Button(root, text=\"Generate\", width=20, height=2, bg=\"black\", fg=\"white\", command=generate).place(x=50, y=320)\n",
    "\n",
    "# Start the main loop\n",
    "root.mainloop()"
   ]
  },
  {
   "cell_type": "code",
   "execution_count": null,
   "id": "089bff71-7426-4a54-8ce7-888e471fc4e0",
   "metadata": {},
   "outputs": [],
   "source": []
  }
 ],
 "metadata": {
  "kernelspec": {
   "display_name": "Python [conda env:base] *",
   "language": "python",
   "name": "conda-base-py"
  },
  "language_info": {
   "codemirror_mode": {
    "name": "ipython",
    "version": 3
   },
   "file_extension": ".py",
   "mimetype": "text/x-python",
   "name": "python",
   "nbconvert_exporter": "python",
   "pygments_lexer": "ipython3",
   "version": "3.12.7"
  },
  "panel-cell-order": [
   "23adab78-a628-4229-8dd1-c3da4ca7ff86",
   "2f236507-d1a1-4eff-953d-5d5408d416ef"
  ]
 },
 "nbformat": 4,
 "nbformat_minor": 5
}
